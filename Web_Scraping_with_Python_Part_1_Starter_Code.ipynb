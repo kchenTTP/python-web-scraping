{
  "nbformat": 4,
  "nbformat_minor": 0,
  "metadata": {
    "colab": {
      "provenance": [],
      "collapsed_sections": [
        "LyjlTJzkCzr3"
      ],
      "authorship_tag": "ABX9TyPOV9zW5Fis9+BfkVVuPJwn",
      "include_colab_link": true
    },
    "kernelspec": {
      "name": "python3",
      "display_name": "Python 3"
    },
    "language_info": {
      "name": "python"
    }
  },
  "cells": [
    {
      "cell_type": "markdown",
      "metadata": {
        "id": "view-in-github",
        "colab_type": "text"
      },
      "source": [
        "<a href=\"https://colab.research.google.com/github/kchenTTP/python-web-scraping/blob/main/Web_Scraping_with_Python_Part_1_Starter_Code.ipynb\" target=\"_parent\"><img src=\"https://colab.research.google.com/assets/colab-badge.svg\" alt=\"Open In Colab\"/></a>"
      ]
    },
    {
      "cell_type": "markdown",
      "source": [
        "# **Web Scraping with Python Part 1**\n",
        "\n",
        "Web scraping is a technique used to extract and gather data from websites automatically using Python. We will be navigating through web pages, retrieving specific information, and store it in this class.\n"
      ],
      "metadata": {
        "id": "ojWZxrxxkijn"
      }
    },
    {
      "cell_type": "markdown",
      "source": [
        "# Keyword Definition\n",
        "\n",
        "**Web Scraper**: The script or program used to automate the process of web scraping\n",
        "\n",
        "**HTTP**: Hypertext Transfer Protocol, the protocol used for transmitting data over the internet\n",
        "\n",
        "**Requests**: Users and web scrapers send HTTP requests to wesites to receive the webpage\n",
        "  - [List of Request Methods](https://developer.mozilla.org/en-US/docs/Web/HTTP/Methods)\n",
        "\n",
        "**Responses**: When an website server receives a request, it processes it and sends back a response\n",
        "\n",
        "**Status Codes**: Three-digit code that is included in the response that provides information about the status of the request\n",
        "  - [List of Status Codes](https://developer.mozilla.org/en-US/docs/Web/HTTP/Status)\n",
        "\n",
        "**HTML**: Hypertext Markup Language, the standard markup language used to structure web pages\n",
        "\n",
        "**CSS Selectors**: Cascading Style Sheets (CSS) selectors allow you to target and select specific HTML elements based on their attributes, classes, or IDs\n",
        "\n",
        "**DOM**: Document Object Model, a representation of the structure and content of an HTML or XML document\n",
        "\n",
        "> Tip: Use Chrome's developer tool to look at HTML documents\n",
        "1. In a Chrome based browser, `right click` -> `inspect` to open up the developer tool\n",
        "2. Find HTML document in `Elements` tab"
      ],
      "metadata": {
        "id": "CeHhK8K2WaWC"
      }
    },
    {
      "cell_type": "markdown",
      "source": [
        "# How Web Scraping Works?\n",
        "\n",
        "Web scraping operates by sending HTTP requests to websites and then parsing the HTML or XML code of the web pages to extract the desired data. This data can include text, images, links, tables, and other structured or unstructured content present on the website\n",
        "\n",
        "> ⚠️ Remember that while web scraping can be a powerful tool, it is important to adhere to legal and ethical guidelines and respect the terms of service of the websites you scrape"
      ],
      "metadata": {
        "id": "ptGwU_TMUFAy"
      }
    },
    {
      "cell_type": "markdown",
      "source": [
        "## Import Python Packages\n",
        "\n",
        "1. [`requests`](https://requests.readthedocs.io/en/latest/): Allows us to make HTTP requests to access resources on the internet\n",
        "2. [`bs4`](https://www.crummy.com/software/BeautifulSoup/bs4/doc/) (`BeautifulSoup`): Extracts information from HTML and XML documents\n",
        "3. [`IPython.display`](https://ipython.readthedocs.io/en/stable/api/generated/IPython.display.html#IPython.display.Image): Allows us to display images\n",
        "4. [`pprint`](https://docs.python.org/3/library/pprint.html): \"pretty print,\" prints Python data structures in a well-formatted, aesthetically pleasing way\n"
      ],
      "metadata": {
        "id": "eCZssow-xhNs"
      }
    },
    {
      "cell_type": "code",
      "execution_count": null,
      "metadata": {
        "id": "jv-TwRg3XlSi",
        "cellView": "form"
      },
      "outputs": [],
      "source": [
        "#@title Check available python packages\n",
        "! pip list"
      ]
    },
    {
      "cell_type": "code",
      "source": [
        "import requests\n",
        "from bs4 import BeautifulSoup as bs\n",
        "from IPython.display import display, Image\n",
        "from pprint import pprint"
      ],
      "metadata": {
        "id": "woia5lY_aQY0"
      },
      "execution_count": null,
      "outputs": []
    },
    {
      "cell_type": "markdown",
      "source": [
        "# Example: New York Times Best Sellers\n",
        "\n",
        "We'll be scrapping information from The New York Times Best Sellers page to learn the basics of web scrapping and the `BeautifulSoup` library\n",
        "\n",
        "**steps**\n",
        "1. Visit [The New York Times Best Sellers](https://www.nytimes.com/books/best-sellers/)\n",
        "\n",
        "2. Open developer tool, find where the information is located inside the HTML\n",
        "\n",
        "3. Use `BeautifulSoup` to retrieve HTML for entire page\n",
        "\n",
        "4. Use `BeautifulSoup` to retrieve specific informaiton inside HTML\n"
      ],
      "metadata": {
        "id": "hCiWc39YxpUM"
      }
    },
    {
      "cell_type": "code",
      "source": [
        "#@title Save website url to variable { run: \"auto\" }\n",
        "url = \"https://www.nytimes.com/books/best-sellers/\" #@param {type:\"string\"}"
      ],
      "metadata": {
        "id": "uleWuivmbbd2",
        "cellView": "form"
      },
      "execution_count": null,
      "outputs": []
    },
    {
      "cell_type": "markdown",
      "source": [
        "## Write a function that sends HTTP `Get` request to retrieve webpage HTML"
      ],
      "metadata": {
        "id": "5HhlbC96j2Eg"
      }
    },
    {
      "cell_type": "code",
      "source": [
        "def get_web_content(url):\n",
        "  response = requests.get(url)\n",
        "  return bs(response.content)"
      ],
      "metadata": {
        "id": "tfZEgJ7Tbuu7"
      },
      "execution_count": null,
      "outputs": []
    },
    {
      "cell_type": "code",
      "source": [
        "# get html of website\n",
        "soup = get_web_content(url)\n",
        "pprint(soup)"
      ],
      "metadata": {
        "id": "z8lqyU6acJJY"
      },
      "execution_count": null,
      "outputs": []
    },
    {
      "cell_type": "markdown",
      "source": [
        "## Extracting data from HTML\n",
        "- `find()`: Returns the first matching item\n",
        "- `find_all()`: Returns all matchin items\n",
        "\n",
        "Arguments:\n",
        "- `name`: HTML tag names\n",
        "  - ex. `h1`, `p`, `a`\n",
        "- `<html_attr>`: HTML attributes\n",
        "  - ex. `class_='cover-img'`"
      ],
      "metadata": {
        "id": "s895dLbwlQns"
      }
    },
    {
      "cell_type": "markdown",
      "source": [
        "### Find by Tag Name"
      ],
      "metadata": {
        "id": "_dVw440Xo4_p"
      }
    },
    {
      "cell_type": "code",
      "source": [
        "# find every <p> tag\n",
        "pprint(soup.find_all('p'))"
      ],
      "metadata": {
        "id": "D7DgL4A-pKi7"
      },
      "execution_count": null,
      "outputs": []
    },
    {
      "cell_type": "code",
      "source": [
        "# find every <title> tag\n",
        "pprint(soup.title)"
      ],
      "metadata": {
        "id": "xXldKbuuppcT"
      },
      "execution_count": null,
      "outputs": []
    },
    {
      "cell_type": "markdown",
      "source": [
        "### Find by HTML Attributes\n",
        "- Use `<html_attr>=<value>` to find items\n",
        "- Use `attr` argument with a dictionary to find items"
      ],
      "metadata": {
        "id": "Or0PwBHSrTHQ"
      }
    },
    {
      "cell_type": "code",
      "source": [
        "# find items using html attribute\n",
        "pprint(soup.find_all(itemprop='name'))"
      ],
      "metadata": {
        "id": "2UeLNT-Bp_0I"
      },
      "execution_count": null,
      "outputs": []
    },
    {
      "cell_type": "code",
      "source": [
        "# find items using dictionary\n",
        "pprint(soup.find(attrs={'data-testid': 'header-title'}))"
      ],
      "metadata": {
        "id": "DnaT5UqjrYPk"
      },
      "execution_count": null,
      "outputs": []
    },
    {
      "cell_type": "markdown",
      "source": [
        "### Find by CSS Classes"
      ],
      "metadata": {
        "id": "Axkh-3wjtzHd"
      }
    },
    {
      "cell_type": "code",
      "source": [
        "pprint(soup.find(class_='css-68u1tu'))   # class attribute requires an underscore at the end cause class is a reserved keyword in python"
      ],
      "metadata": {
        "id": "oaTxdotOtuF5"
      },
      "execution_count": null,
      "outputs": []
    },
    {
      "cell_type": "markdown",
      "source": [
        "### Accessing data in HTML Elements"
      ],
      "metadata": {
        "id": "gpXqeD4xu5HC"
      }
    },
    {
      "cell_type": "code",
      "source": [
        "title_element = soup.find(class_='css-68u1tu')\n",
        "\n",
        "# get the inner text from an element\n",
        "print(title_element.text)\n",
        "\n",
        "# get the tag name of an element\n",
        "print(title_element.name)\n",
        "\n",
        "# get the value of an attribute by treating element as a dictionary\n",
        "print(title_element['data-testid'])\n",
        "print(title_element.get('data-testid'))"
      ],
      "metadata": {
        "id": "TEQdzlaVu5ju"
      },
      "execution_count": null,
      "outputs": []
    },
    {
      "cell_type": "markdown",
      "source": [
        "## **Task: Scrape Book Names, Categories, Author, Cover Images, and ISBNs**\n",
        "\n",
        "**Steps**\n",
        "1. Open developer tool to find where the data you want lives inside the HTML document\n",
        "2. Find common attributes of the data"
      ],
      "metadata": {
        "id": "_2b5QBi7rJKj"
      }
    },
    {
      "cell_type": "markdown",
      "source": [
        "### 1. Find All Book Names\n",
        "We can see all book names have the same CSS class: `css-i1z3c1`, so let's save the class as a variable"
      ],
      "metadata": {
        "id": "qTAblCab5MET"
      }
    },
    {
      "cell_type": "code",
      "source": [
        "# css class all the book title shares\n",
        "book_class = None"
      ],
      "metadata": {
        "id": "WSRSor6U7ySP"
      },
      "execution_count": null,
      "outputs": []
    },
    {
      "cell_type": "markdown",
      "source": [
        "#### Write a Function that Returns a List Using CSS Class Name"
      ],
      "metadata": {
        "id": "mbwxaLr2j7bB"
      }
    },
    {
      "cell_type": "code",
      "source": [
        "# Your code here\n"
      ],
      "metadata": {
        "id": "quyL9ob3j68S"
      },
      "execution_count": null,
      "outputs": []
    },
    {
      "cell_type": "code",
      "source": [
        "#@title Kang's Implentation (Write your own code before checking answer)\n",
        "def get_list_with_class(soup, class_name):\n",
        "  \"\"\"\n",
        "  Function for getting list item text using html class attribute\n",
        "  \"\"\"\n",
        "\n",
        "  items = []\n",
        "\n",
        "  for i in soup.find_all(class_ = class_name):\n",
        "    items.append(i.text)\n",
        "  return items"
      ],
      "metadata": {
        "cellView": "form",
        "id": "BtIwhKwI66Ov"
      },
      "execution_count": null,
      "outputs": []
    },
    {
      "cell_type": "code",
      "source": [
        "# get all the best sellers title\n",
        "book_titles_list = None\n",
        "print('Number of books:', len(book_titles_list))"
      ],
      "metadata": {
        "id": "sYGc_cRw5Lqh"
      },
      "execution_count": null,
      "outputs": []
    },
    {
      "cell_type": "code",
      "source": [
        "# print out the list\n",
        "book_titles_list"
      ],
      "metadata": {
        "id": "H8BrSdyh-XE-"
      },
      "execution_count": null,
      "outputs": []
    },
    {
      "cell_type": "markdown",
      "source": [
        "### 2. Find All Category Names\n",
        "We can see all book categories have the same CSS class: `css-nzgijy`, so let's save the class as a variable"
      ],
      "metadata": {
        "id": "3e8LNsJd8nhP"
      }
    },
    {
      "cell_type": "code",
      "source": [
        "# css class all the book categories shares\n",
        "cat_class = None"
      ],
      "metadata": {
        "id": "cFZMmfdl9TWR"
      },
      "execution_count": null,
      "outputs": []
    },
    {
      "cell_type": "code",
      "source": [
        "# get all the categories\n",
        "categories_list = None\n",
        "print('Number of Categories:', len(categories_list))"
      ],
      "metadata": {
        "id": "I1QFDl1B89vd"
      },
      "execution_count": null,
      "outputs": []
    },
    {
      "cell_type": "code",
      "source": [
        "# print out the list\n",
        "categories_list"
      ],
      "metadata": {
        "id": "J6Ggx-Qw-xay"
      },
      "execution_count": null,
      "outputs": []
    },
    {
      "cell_type": "markdown",
      "source": [
        "### 3. Find All Author Names\n",
        "All authors have the same HTML attribute: `itemprop='author'`, so let's use the HTML attribute to scrape all the author names"
      ],
      "metadata": {
        "id": "Lgq3upH9baV3"
      }
    },
    {
      "cell_type": "code",
      "source": [
        "author_list = []\n",
        "# Your code here\n"
      ],
      "metadata": {
        "id": "JXYl1sy9lMhP"
      },
      "execution_count": null,
      "outputs": []
    },
    {
      "cell_type": "code",
      "source": [
        "#@title Kang's Implentation (Write your own code before checking answer)\n",
        "author_list = []\n",
        "\n",
        "for a in soup.find_all(itemprop='author'):\n",
        "  author_list.append(a.text.replace('by ', ''))\n",
        "\n",
        "print('Number of Authors:', len(author_list))"
      ],
      "metadata": {
        "id": "hDewU6hHdMDy",
        "cellView": "form"
      },
      "execution_count": null,
      "outputs": []
    },
    {
      "cell_type": "code",
      "source": [
        "# print out the list\n",
        "author_list"
      ],
      "metadata": {
        "id": "MbYuFfUFdjFn"
      },
      "execution_count": null,
      "outputs": []
    },
    {
      "cell_type": "markdown",
      "source": [
        "### 4. Find All Book Cover Images\n",
        "We can see all book cover images have the same HTML attribute: `itemprop='image'`, so let's use the HTML attribute to scrape all the image URLs"
      ],
      "metadata": {
        "id": "_fWJdB_k8_HX"
      }
    },
    {
      "cell_type": "code",
      "source": [
        "book_img_list = []\n",
        "# Your code here\n"
      ],
      "metadata": {
        "id": "7HETw3AMl8fT"
      },
      "execution_count": null,
      "outputs": []
    },
    {
      "cell_type": "code",
      "source": [
        "#@title Kang's Implentation (Write your own code before checking answer)\n",
        "book_img_list = []\n",
        "\n",
        "for img in soup.find_all(itemprop='image'):\n",
        "  book_img_list.append(img['src']) # use the 'src' attribute to retrieve the url of the image\n",
        "\n",
        "print('Number of Images:', len(book_img_list))"
      ],
      "metadata": {
        "id": "pBhBLV6dwXeD",
        "cellView": "form"
      },
      "execution_count": null,
      "outputs": []
    },
    {
      "cell_type": "code",
      "source": [
        "# print out all the urls\n",
        "book_img_list"
      ],
      "metadata": {
        "id": "WZV5Wuf4_ZRS"
      },
      "execution_count": null,
      "outputs": []
    },
    {
      "cell_type": "code",
      "source": [
        "#@title Show All the Images We've Scrapped { run: \"auto\", vertical-output: true }\n",
        "img_idx = 0 #@param {type:\"slider\", min:0, max:54, step:1}\n",
        "display(Image(book_img_list[img_idx]))"
      ],
      "metadata": {
        "colab": {
          "base_uri": "https://localhost:8080/",
          "height": 517
        },
        "cellView": "form",
        "id": "kNMJR5PaxsNh",
        "outputId": "37bdc4a8-ac62-4178-81f2-34dbc9fa81f6"
      },
      "execution_count": null,
      "outputs": [
        {
          "output_type": "display_data",
          "data": {
            "image/jpeg": "[encoded data removed]",
            "text/plain": [
              "<IPython.core.display.Image object>"
            ]
          },
          "metadata": {}
        }
      ]
    },
    {
      "cell_type": "markdown",
      "source": [
        "### 5. Find All Book ISBNs\n",
        "If we explore the image urls a little bit, we can see that all the image filenames are actually their ISBNs. Let's store all the ISBNs into a list by parsing it from the url\n"
      ],
      "metadata": {
        "id": "deqYKm9sAOUU"
      }
    },
    {
      "cell_type": "code",
      "source": [
        "isbn_list = []\n",
        "# Your code here\n"
      ],
      "metadata": {
        "id": "p6KC1QOYmStV"
      },
      "execution_count": null,
      "outputs": []
    },
    {
      "cell_type": "code",
      "source": [
        "#@title Kang's Implentation (Write your own code before checking answer)\n",
        "isbn_list = []\n",
        "\n",
        "for image in book_img_list:\n",
        "  isbn_list.append(image.split('/')[-1].split('.')[0])\n",
        "\n",
        "print('Number of ISBN:', len(isbn_list))"
      ],
      "metadata": {
        "id": "n_aK9N5mA__Q",
        "cellView": "form"
      },
      "execution_count": null,
      "outputs": []
    },
    {
      "cell_type": "code",
      "source": [
        "# print out the list of ISBNs\n",
        "isbn_list"
      ],
      "metadata": {
        "id": "f-iUc-O8CPt2"
      },
      "execution_count": null,
      "outputs": []
    },
    {
      "cell_type": "markdown",
      "source": [
        "## Extra: Save All Information into a CSV file for Future Analysis"
      ],
      "metadata": {
        "id": "LyjlTJzkCzr3"
      }
    },
    {
      "cell_type": "code",
      "source": [
        "import pandas as pd"
      ],
      "metadata": {
        "id": "XeuDtBcoDBTG"
      },
      "execution_count": null,
      "outputs": []
    },
    {
      "cell_type": "markdown",
      "source": [
        "### Validate Our Data Before Saving"
      ],
      "metadata": {
        "id": "aOR98Vsta4l4"
      }
    },
    {
      "cell_type": "code",
      "source": [
        "# make sure all the lists are of the same length\n",
        "print(len(book_titles_list))\n",
        "print(len(author_list))\n",
        "print(len(categories_list))\n",
        "print(len(book_img_list))\n",
        "print(len(isbn_list))"
      ],
      "metadata": {
        "colab": {
          "base_uri": "https://localhost:8080/"
        },
        "id": "GlBLeKapFczz",
        "outputId": "53179891-db3b-4591-852d-93d6612ff392"
      },
      "execution_count": null,
      "outputs": [
        {
          "output_type": "stream",
          "name": "stdout",
          "text": [
            "55\n",
            "55\n",
            "11\n",
            "55\n",
            "55\n"
          ]
        }
      ]
    },
    {
      "cell_type": "code",
      "source": [
        "# repeat categories to match what we saw on the page\n",
        "new_cat_list = [item for item in categories_list for _ in range(5)]\n",
        "len(new_cat_list)"
      ],
      "metadata": {
        "colab": {
          "base_uri": "https://localhost:8080/"
        },
        "id": "dO47fCdaDFKh",
        "outputId": "4c5e3fb7-0220-42aa-e6fd-a7ac9e96176a"
      },
      "execution_count": null,
      "outputs": [
        {
          "output_type": "execute_result",
          "data": {
            "text/plain": [
              "55"
            ]
          },
          "metadata": {},
          "execution_count": 28
        }
      ]
    },
    {
      "cell_type": "markdown",
      "source": [
        "### Create a Pandas Dataframe with All the Lists"
      ],
      "metadata": {
        "id": "zt17DJU8Z9VV"
      }
    },
    {
      "cell_type": "code",
      "source": [
        "# create a dictionary with columns as the keys\n",
        "columns = ['title', 'author', 'ISBN', 'category', 'img_url']\n",
        "data_list = [book_titles_list, author_list, isbn_list, new_cat_list, book_img_list]\n",
        "data = dict.fromkeys(columns)\n",
        "\n",
        "# fill dictionary values with the data we scraped\n",
        "for i, key in enumerate(data.keys()):\n",
        "  data[key] = data_list[i]\n",
        "\n",
        "# create dataframe with a dictionary, pass in columns as the header\n",
        "df = pd.DataFrame(data=data, columns=columns)\n",
        "df"
      ],
      "metadata": {
        "colab": {
          "base_uri": "https://localhost:8080/",
          "height": 1000
        },
        "id": "m0h00sRaE9J2",
        "outputId": "dd79fdd9-9e79-46f0-e33a-14599887fe2e"
      },
      "execution_count": null,
      "outputs": [
        {
          "output_type": "execute_result",
          "data": {
            "text/plain": [
              "                                          title  \\\n",
              "0                         THE FIVE-STAR WEEKEND   \n",
              "1                           LOVE, THEORETICALLY   \n",
              "2                          LESSONS IN CHEMISTRY   \n",
              "3                                   HAPPY PLACE   \n",
              "4                               IT ENDS WITH US   \n",
              "5                                     THE WAGER   \n",
              "6                                       OUTLIVE   \n",
              "7                                THE IN-BETWEEN   \n",
              "8                                       PAGEBOY   \n",
              "9                    KILLERS OF THE FLOWER MOON   \n",
              "10                        THE FIVE-STAR WEEKEND   \n",
              "11                         LESSONS IN CHEMISTRY   \n",
              "12                                  HAPPY PLACE   \n",
              "13                                   CROSS DOWN   \n",
              "14                        THE COVENANT OF WATER   \n",
              "15                                    THE WAGER   \n",
              "16                                      OUTLIVE   \n",
              "17                                      PAGEBOY   \n",
              "18                                         1964   \n",
              "19                               THE IN-BETWEEN   \n",
              "20                          LOVE, THEORETICALLY   \n",
              "21                                   ICEBREAKER   \n",
              "22                              IT ENDS WITH US   \n",
              "23                            IT STARTS WITH US   \n",
              "24            THE SEVEN HUSBANDS OF EVELYN HUGO   \n",
              "25                   KILLERS OF THE FLOWER MOON   \n",
              "26                     THE BODY KEEPS THE SCORE   \n",
              "27                             CRYING IN H MART   \n",
              "28                                 BORN A CRIME   \n",
              "29                          BRAIDING SWEETGRASS   \n",
              "30                                ATOMIC HABITS   \n",
              "31                                   KNIFE DROP   \n",
              "32                             THE CREATIVE ACT   \n",
              "33                       MAGNOLIA TABLE, VOL. 3   \n",
              "34          THE SUBTLE ART OF NOT GIVING A F*CK   \n",
              "35            CATCH A CRAYFISH, COUNT THE STARS   \n",
              "36                         THE SUN AND THE STAR   \n",
              "37                                      REFUGEE   \n",
              "38                                       WONDER   \n",
              "39                                      CROWNED   \n",
              "40                   WHY A DAUGHTER NEEDS A DAD   \n",
              "41                        WHY A SON NEEDS A DAD   \n",
              "42  I LOVE DAD WITH THE VERY HUNGRY CATERPILLAR   \n",
              "43                   HOW TO CATCH A DADDYSAURUS   \n",
              "44             THE WONDERFUL THINGS YOU WILL BE   \n",
              "45           THE SUMMER I TURNED PRETTY TRILOGY   \n",
              "46                A GOOD GIRL'S GUIDE TO MURDER   \n",
              "47                         DIARY OF A WIMPY KID   \n",
              "48                                 HARRY POTTER   \n",
              "49                             THE HUNGER GAMES   \n",
              "50                                    SOLITAIRE   \n",
              "51                                 FIVE SURVIVE   \n",
              "52                             GIRLS LIKE GIRLS   \n",
              "53                             NICK AND CHARLIE   \n",
              "54                  THE FIRST TO DIE AT THE END   \n",
              "\n",
              "                                               author           ISBN  \\\n",
              "0                                    Elin Hilderbrand  9780316258777   \n",
              "1                                       Ali Hazelwood  9780593336861   \n",
              "2                                       Bonnie Garmus  9780385547345   \n",
              "3                                         Emily Henry  9780593441275   \n",
              "4                                      Colleen Hoover  9781501110375   \n",
              "5                                         David Grann  9780385534260   \n",
              "6                       Peter Attia with Bill Gifford  9780593236598   \n",
              "7                                       Hadley Vlahos  9780593499931   \n",
              "8                                         Elliot Page  9781250878359   \n",
              "9                                         David Grann  9780385534246   \n",
              "10                                   Elin Hilderbrand  9780316258777   \n",
              "11                                      Bonnie Garmus  9780385547345   \n",
              "12                                        Emily Henry  9780593441275   \n",
              "13                 James Patterson and Brendan DuBois  9780316404594   \n",
              "14                                   Abraham Verghese  9780802162175   \n",
              "15                                        David Grann  9780385534260   \n",
              "16                      Peter Attia with Bill Gifford  9780593236598   \n",
              "17                                        Elliot Page  9781250878359   \n",
              "18                                     Paul McCartney  9781324093060   \n",
              "19                                      Hadley Vlahos  9780593499931   \n",
              "20                                      Ali Hazelwood  9780593336861   \n",
              "21                                       Hannah Grace  9781668026038   \n",
              "22                                     Colleen Hoover  9781501110375   \n",
              "23                                     Colleen Hoover  9781668001226   \n",
              "24                                Taylor Jenkins Reid  9781501161933   \n",
              "25                                        David Grann  9780385534246   \n",
              "26                                Bessel van der Kolk  9780670785933   \n",
              "27                                    Michelle Zauner  9780525657743   \n",
              "28                                        Trevor Noah  9780399588181   \n",
              "29                                Robin Wall Kimmerer  9781571313560   \n",
              "30                                        James Clear  9780735211292   \n",
              "31                                    Nick DiGiovanni  9780744076776   \n",
              "32                       Rick Rubin with Neil Strauss  9780593652886   \n",
              "33                                      Joanna Gaines  9780062820174   \n",
              "34                                        Mark Manson  9780062457714   \n",
              "35  Steven Rinella with Brody Henderson. Illustrat...  9780593448977   \n",
              "36                       Rick Riordan and Mark Oshiro  9781368081153   \n",
              "37                                         Alan Gratz  9780545880831   \n",
              "38                                       R.J. Palacio  9780375899881   \n",
              "39                       Kahran and Regis Bethencourt  9781250281388   \n",
              "40         Gregory E. Lang. Illustrated Sydney Hanson  9781492667834   \n",
              "41          Gregory E. Lang. Illustrated Gail Yerrill  9781728235875   \n",
              "42                                         Eric Carle  9781524785895   \n",
              "43          Alice Walstead. Illustrated Andy Elkerton  9781728266183   \n",
              "44                              Emily Winfield Martin  9780385376716   \n",
              "45                                          Jenny Han  9781416995586   \n",
              "46                                      Holly Jackson  9780593379851   \n",
              "47                written and illustrated Jeff Kinney  9781419711329   \n",
              "48                                       J.K. Rowling  9780590353427   \n",
              "49                                    Suzanne Collins  9780545663267   \n",
              "50                                       Alice Oseman  9781339016238   \n",
              "51                                      Holly Jackson  9780593374160   \n",
              "52                                      Hayley Kiyoko  9781250817631   \n",
              "53                                       Alice Oseman  9781338885101   \n",
              "54                                       Adam Silvera  9780063240803   \n",
              "\n",
              "                              category  \\\n",
              "0      Combined Print & E-Book Fiction   \n",
              "1      Combined Print & E-Book Fiction   \n",
              "2      Combined Print & E-Book Fiction   \n",
              "3      Combined Print & E-Book Fiction   \n",
              "4      Combined Print & E-Book Fiction   \n",
              "5   Combined Print & E-Book Nonfiction   \n",
              "6   Combined Print & E-Book Nonfiction   \n",
              "7   Combined Print & E-Book Nonfiction   \n",
              "8   Combined Print & E-Book Nonfiction   \n",
              "9   Combined Print & E-Book Nonfiction   \n",
              "10                   Hardcover Fiction   \n",
              "11                   Hardcover Fiction   \n",
              "12                   Hardcover Fiction   \n",
              "13                   Hardcover Fiction   \n",
              "14                   Hardcover Fiction   \n",
              "15                Hardcover Nonfiction   \n",
              "16                Hardcover Nonfiction   \n",
              "17                Hardcover Nonfiction   \n",
              "18                Hardcover Nonfiction   \n",
              "19                Hardcover Nonfiction   \n",
              "20             Paperback Trade Fiction   \n",
              "21             Paperback Trade Fiction   \n",
              "22             Paperback Trade Fiction   \n",
              "23             Paperback Trade Fiction   \n",
              "24             Paperback Trade Fiction   \n",
              "25                Paperback Nonfiction   \n",
              "26                Paperback Nonfiction   \n",
              "27                Paperback Nonfiction   \n",
              "28                Paperback Nonfiction   \n",
              "29                Paperback Nonfiction   \n",
              "30      Advice, How-To & Miscellaneous   \n",
              "31      Advice, How-To & Miscellaneous   \n",
              "32      Advice, How-To & Miscellaneous   \n",
              "33      Advice, How-To & Miscellaneous   \n",
              "34      Advice, How-To & Miscellaneous   \n",
              "35   Children’s Middle Grade Hardcover   \n",
              "36   Children’s Middle Grade Hardcover   \n",
              "37   Children’s Middle Grade Hardcover   \n",
              "38   Children’s Middle Grade Hardcover   \n",
              "39   Children’s Middle Grade Hardcover   \n",
              "40            Children’s Picture Books   \n",
              "41            Children’s Picture Books   \n",
              "42            Children’s Picture Books   \n",
              "43            Children’s Picture Books   \n",
              "44            Children’s Picture Books   \n",
              "45                   Children’s Series   \n",
              "46                   Children’s Series   \n",
              "47                   Children’s Series   \n",
              "48                   Children’s Series   \n",
              "49                   Children’s Series   \n",
              "50               Young Adult Hardcover   \n",
              "51               Young Adult Hardcover   \n",
              "52               Young Adult Hardcover   \n",
              "53               Young Adult Hardcover   \n",
              "54               Young Adult Hardcover   \n",
              "\n",
              "                                              img_url  \n",
              "0   https://storage.googleapis.com/du-prd/books/im...  \n",
              "1   https://storage.googleapis.com/du-prd/books/im...  \n",
              "2   https://storage.googleapis.com/du-prd/books/im...  \n",
              "3   https://storage.googleapis.com/du-prd/books/im...  \n",
              "4   https://storage.googleapis.com/du-prd/books/im...  \n",
              "5   https://storage.googleapis.com/du-prd/books/im...  \n",
              "6   https://storage.googleapis.com/du-prd/books/im...  \n",
              "7   https://storage.googleapis.com/du-prd/books/im...  \n",
              "8   https://storage.googleapis.com/du-prd/books/im...  \n",
              "9   https://storage.googleapis.com/du-prd/books/im...  \n",
              "10  https://storage.googleapis.com/du-prd/books/im...  \n",
              "11  https://storage.googleapis.com/du-prd/books/im...  \n",
              "12  https://storage.googleapis.com/du-prd/books/im...  \n",
              "13  https://storage.googleapis.com/du-prd/books/im...  \n",
              "14  https://storage.googleapis.com/du-prd/books/im...  \n",
              "15  https://storage.googleapis.com/du-prd/books/im...  \n",
              "16  https://storage.googleapis.com/du-prd/books/im...  \n",
              "17  https://storage.googleapis.com/du-prd/books/im...  \n",
              "18  https://storage.googleapis.com/du-prd/books/im...  \n",
              "19  https://storage.googleapis.com/du-prd/books/im...  \n",
              "20  https://storage.googleapis.com/du-prd/books/im...  \n",
              "21  https://storage.googleapis.com/du-prd/books/im...  \n",
              "22  https://storage.googleapis.com/du-prd/books/im...  \n",
              "23  https://storage.googleapis.com/du-prd/books/im...  \n",
              "24  https://storage.googleapis.com/du-prd/books/im...  \n",
              "25  https://storage.googleapis.com/du-prd/books/im...  \n",
              "26  https://storage.googleapis.com/du-prd/books/im...  \n",
              "27  https://storage.googleapis.com/du-prd/books/im...  \n",
              "28  https://storage.googleapis.com/du-prd/books/im...  \n",
              "29  https://storage.googleapis.com/du-prd/books/im...  \n",
              "30  https://storage.googleapis.com/du-prd/books/im...  \n",
              "31  https://storage.googleapis.com/du-prd/books/im...  \n",
              "32  https://storage.googleapis.com/du-prd/books/im...  \n",
              "33  https://storage.googleapis.com/du-prd/books/im...  \n",
              "34  https://storage.googleapis.com/du-prd/books/im...  \n",
              "35  https://storage.googleapis.com/du-prd/books/im...  \n",
              "36  https://storage.googleapis.com/du-prd/books/im...  \n",
              "37  https://storage.googleapis.com/du-prd/books/im...  \n",
              "38  https://storage.googleapis.com/du-prd/books/im...  \n",
              "39  https://storage.googleapis.com/du-prd/books/im...  \n",
              "40  https://storage.googleapis.com/du-prd/books/im...  \n",
              "41  https://storage.googleapis.com/du-prd/books/im...  \n",
              "42  https://storage.googleapis.com/du-prd/books/im...  \n",
              "43  https://storage.googleapis.com/du-prd/books/im...  \n",
              "44  https://storage.googleapis.com/du-prd/books/im...  \n",
              "45  https://storage.googleapis.com/du-prd/books/im...  \n",
              "46  https://storage.googleapis.com/du-prd/books/im...  \n",
              "47  https://storage.googleapis.com/du-prd/books/im...  \n",
              "48  https://storage.googleapis.com/du-prd/books/im...  \n",
              "49  https://storage.googleapis.com/du-prd/books/im...  \n",
              "50  https://storage.googleapis.com/du-prd/books/im...  \n",
              "51  https://storage.googleapis.com/du-prd/books/im...  \n",
              "52  https://storage.googleapis.com/du-prd/books/im...  \n",
              "53  https://storage.googleapis.com/du-prd/books/im...  \n",
              "54  https://storage.googleapis.com/du-prd/books/im...  "
            ],
            "text/html": [
              "\n",
              "  <div id=\"df-cbd4c640-7a47-45e2-90f1-a33cd2487a42\">\n",
              "    <div class=\"colab-df-container\">\n",
              "      <div>\n",
              "<style scoped>\n",
              "    .dataframe tbody tr th:only-of-type {\n",
              "        vertical-align: middle;\n",
              "    }\n",
              "\n",
              "    .dataframe tbody tr th {\n",
              "        vertical-align: top;\n",
              "    }\n",
              "\n",
              "    .dataframe thead th {\n",
              "        text-align: right;\n",
              "    }\n",
              "</style>\n",
              "<table border=\"1\" class=\"dataframe\">\n",
              "  <thead>\n",
              "    <tr style=\"text-align: right;\">\n",
              "      <th></th>\n",
              "      <th>title</th>\n",
              "      <th>author</th>\n",
              "      <th>ISBN</th>\n",
              "      <th>category</th>\n",
              "      <th>img_url</th>\n",
              "    </tr>\n",
              "  </thead>\n",
              "  <tbody>\n",
              "    <tr>\n",
              "      <th>0</th>\n",
              "      <td>THE FIVE-STAR WEEKEND</td>\n",
              "      <td>Elin Hilderbrand</td>\n",
              "      <td>9780316258777</td>\n",
              "      <td>Combined Print &amp; E-Book Fiction</td>\n",
              "      <td>https://storage.googleapis.com/du-prd/books/im...</td>\n",
              "    </tr>\n",
              "    <tr>\n",
              "      <th>1</th>\n",
              "      <td>LOVE, THEORETICALLY</td>\n",
              "      <td>Ali Hazelwood</td>\n",
              "      <td>9780593336861</td>\n",
              "      <td>Combined Print &amp; E-Book Fiction</td>\n",
              "      <td>https://storage.googleapis.com/du-prd/books/im...</td>\n",
              "    </tr>\n",
              "    <tr>\n",
              "      <th>2</th>\n",
              "      <td>LESSONS IN CHEMISTRY</td>\n",
              "      <td>Bonnie Garmus</td>\n",
              "      <td>9780385547345</td>\n",
              "      <td>Combined Print &amp; E-Book Fiction</td>\n",
              "      <td>https://storage.googleapis.com/du-prd/books/im...</td>\n",
              "    </tr>\n",
              "    <tr>\n",
              "      <th>3</th>\n",
              "      <td>HAPPY PLACE</td>\n",
              "      <td>Emily Henry</td>\n",
              "      <td>9780593441275</td>\n",
              "      <td>Combined Print &amp; E-Book Fiction</td>\n",
              "      <td>https://storage.googleapis.com/du-prd/books/im...</td>\n",
              "    </tr>\n",
              "    <tr>\n",
              "      <th>4</th>\n",
              "      <td>IT ENDS WITH US</td>\n",
              "      <td>Colleen Hoover</td>\n",
              "      <td>9781501110375</td>\n",
              "      <td>Combined Print &amp; E-Book Fiction</td>\n",
              "      <td>https://storage.googleapis.com/du-prd/books/im...</td>\n",
              "    </tr>\n",
              "    <tr>\n",
              "      <th>5</th>\n",
              "      <td>THE WAGER</td>\n",
              "      <td>David Grann</td>\n",
              "      <td>9780385534260</td>\n",
              "      <td>Combined Print &amp; E-Book Nonfiction</td>\n",
              "      <td>https://storage.googleapis.com/du-prd/books/im...</td>\n",
              "    </tr>\n",
              "    <tr>\n",
              "      <th>6</th>\n",
              "      <td>OUTLIVE</td>\n",
              "      <td>Peter Attia with Bill Gifford</td>\n",
              "      <td>9780593236598</td>\n",
              "      <td>Combined Print &amp; E-Book Nonfiction</td>\n",
              "      <td>https://storage.googleapis.com/du-prd/books/im...</td>\n",
              "    </tr>\n",
              "    <tr>\n",
              "      <th>7</th>\n",
              "      <td>THE IN-BETWEEN</td>\n",
              "      <td>Hadley Vlahos</td>\n",
              "      <td>9780593499931</td>\n",
              "      <td>Combined Print &amp; E-Book Nonfiction</td>\n",
              "      <td>https://storage.googleapis.com/du-prd/books/im...</td>\n",
              "    </tr>\n",
              "    <tr>\n",
              "      <th>8</th>\n",
              "      <td>PAGEBOY</td>\n",
              "      <td>Elliot Page</td>\n",
              "      <td>9781250878359</td>\n",
              "      <td>Combined Print &amp; E-Book Nonfiction</td>\n",
              "      <td>https://storage.googleapis.com/du-prd/books/im...</td>\n",
              "    </tr>\n",
              "    <tr>\n",
              "      <th>9</th>\n",
              "      <td>KILLERS OF THE FLOWER MOON</td>\n",
              "      <td>David Grann</td>\n",
              "      <td>9780385534246</td>\n",
              "      <td>Combined Print &amp; E-Book Nonfiction</td>\n",
              "      <td>https://storage.googleapis.com/du-prd/books/im...</td>\n",
              "    </tr>\n",
              "    <tr>\n",
              "      <th>10</th>\n",
              "      <td>THE FIVE-STAR WEEKEND</td>\n",
              "      <td>Elin Hilderbrand</td>\n",
              "      <td>9780316258777</td>\n",
              "      <td>Hardcover Fiction</td>\n",
              "      <td>https://storage.googleapis.com/du-prd/books/im...</td>\n",
              "    </tr>\n",
              "    <tr>\n",
              "      <th>11</th>\n",
              "      <td>LESSONS IN CHEMISTRY</td>\n",
              "      <td>Bonnie Garmus</td>\n",
              "      <td>9780385547345</td>\n",
              "      <td>Hardcover Fiction</td>\n",
              "      <td>https://storage.googleapis.com/du-prd/books/im...</td>\n",
              "    </tr>\n",
              "    <tr>\n",
              "      <th>12</th>\n",
              "      <td>HAPPY PLACE</td>\n",
              "      <td>Emily Henry</td>\n",
              "      <td>9780593441275</td>\n",
              "      <td>Hardcover Fiction</td>\n",
              "      <td>https://storage.googleapis.com/du-prd/books/im...</td>\n",
              "    </tr>\n",
              "    <tr>\n",
              "      <th>13</th>\n",
              "      <td>CROSS DOWN</td>\n",
              "      <td>James Patterson and Brendan DuBois</td>\n",
              "      <td>9780316404594</td>\n",
              "      <td>Hardcover Fiction</td>\n",
              "      <td>https://storage.googleapis.com/du-prd/books/im...</td>\n",
              "    </tr>\n",
              "    <tr>\n",
              "      <th>14</th>\n",
              "      <td>THE COVENANT OF WATER</td>\n",
              "      <td>Abraham Verghese</td>\n",
              "      <td>9780802162175</td>\n",
              "      <td>Hardcover Fiction</td>\n",
              "      <td>https://storage.googleapis.com/du-prd/books/im...</td>\n",
              "    </tr>\n",
              "    <tr>\n",
              "      <th>15</th>\n",
              "      <td>THE WAGER</td>\n",
              "      <td>David Grann</td>\n",
              "      <td>9780385534260</td>\n",
              "      <td>Hardcover Nonfiction</td>\n",
              "      <td>https://storage.googleapis.com/du-prd/books/im...</td>\n",
              "    </tr>\n",
              "    <tr>\n",
              "      <th>16</th>\n",
              "      <td>OUTLIVE</td>\n",
              "      <td>Peter Attia with Bill Gifford</td>\n",
              "      <td>9780593236598</td>\n",
              "      <td>Hardcover Nonfiction</td>\n",
              "      <td>https://storage.googleapis.com/du-prd/books/im...</td>\n",
              "    </tr>\n",
              "    <tr>\n",
              "      <th>17</th>\n",
              "      <td>PAGEBOY</td>\n",
              "      <td>Elliot Page</td>\n",
              "      <td>9781250878359</td>\n",
              "      <td>Hardcover Nonfiction</td>\n",
              "      <td>https://storage.googleapis.com/du-prd/books/im...</td>\n",
              "    </tr>\n",
              "    <tr>\n",
              "      <th>18</th>\n",
              "      <td>1964</td>\n",
              "      <td>Paul McCartney</td>\n",
              "      <td>9781324093060</td>\n",
              "      <td>Hardcover Nonfiction</td>\n",
              "      <td>https://storage.googleapis.com/du-prd/books/im...</td>\n",
              "    </tr>\n",
              "    <tr>\n",
              "      <th>19</th>\n",
              "      <td>THE IN-BETWEEN</td>\n",
              "      <td>Hadley Vlahos</td>\n",
              "      <td>9780593499931</td>\n",
              "      <td>Hardcover Nonfiction</td>\n",
              "      <td>https://storage.googleapis.com/du-prd/books/im...</td>\n",
              "    </tr>\n",
              "    <tr>\n",
              "      <th>20</th>\n",
              "      <td>LOVE, THEORETICALLY</td>\n",
              "      <td>Ali Hazelwood</td>\n",
              "      <td>9780593336861</td>\n",
              "      <td>Paperback Trade Fiction</td>\n",
              "      <td>https://storage.googleapis.com/du-prd/books/im...</td>\n",
              "    </tr>\n",
              "    <tr>\n",
              "      <th>21</th>\n",
              "      <td>ICEBREAKER</td>\n",
              "      <td>Hannah Grace</td>\n",
              "      <td>9781668026038</td>\n",
              "      <td>Paperback Trade Fiction</td>\n",
              "      <td>https://storage.googleapis.com/du-prd/books/im...</td>\n",
              "    </tr>\n",
              "    <tr>\n",
              "      <th>22</th>\n",
              "      <td>IT ENDS WITH US</td>\n",
              "      <td>Colleen Hoover</td>\n",
              "      <td>9781501110375</td>\n",
              "      <td>Paperback Trade Fiction</td>\n",
              "      <td>https://storage.googleapis.com/du-prd/books/im...</td>\n",
              "    </tr>\n",
              "    <tr>\n",
              "      <th>23</th>\n",
              "      <td>IT STARTS WITH US</td>\n",
              "      <td>Colleen Hoover</td>\n",
              "      <td>9781668001226</td>\n",
              "      <td>Paperback Trade Fiction</td>\n",
              "      <td>https://storage.googleapis.com/du-prd/books/im...</td>\n",
              "    </tr>\n",
              "    <tr>\n",
              "      <th>24</th>\n",
              "      <td>THE SEVEN HUSBANDS OF EVELYN HUGO</td>\n",
              "      <td>Taylor Jenkins Reid</td>\n",
              "      <td>9781501161933</td>\n",
              "      <td>Paperback Trade Fiction</td>\n",
              "      <td>https://storage.googleapis.com/du-prd/books/im...</td>\n",
              "    </tr>\n",
              "    <tr>\n",
              "      <th>25</th>\n",
              "      <td>KILLERS OF THE FLOWER MOON</td>\n",
              "      <td>David Grann</td>\n",
              "      <td>9780385534246</td>\n",
              "      <td>Paperback Nonfiction</td>\n",
              "      <td>https://storage.googleapis.com/du-prd/books/im...</td>\n",
              "    </tr>\n",
              "    <tr>\n",
              "      <th>26</th>\n",
              "      <td>THE BODY KEEPS THE SCORE</td>\n",
              "      <td>Bessel van der Kolk</td>\n",
              "      <td>9780670785933</td>\n",
              "      <td>Paperback Nonfiction</td>\n",
              "      <td>https://storage.googleapis.com/du-prd/books/im...</td>\n",
              "    </tr>\n",
              "    <tr>\n",
              "      <th>27</th>\n",
              "      <td>CRYING IN H MART</td>\n",
              "      <td>Michelle Zauner</td>\n",
              "      <td>9780525657743</td>\n",
              "      <td>Paperback Nonfiction</td>\n",
              "      <td>https://storage.googleapis.com/du-prd/books/im...</td>\n",
              "    </tr>\n",
              "    <tr>\n",
              "      <th>28</th>\n",
              "      <td>BORN A CRIME</td>\n",
              "      <td>Trevor Noah</td>\n",
              "      <td>9780399588181</td>\n",
              "      <td>Paperback Nonfiction</td>\n",
              "      <td>https://storage.googleapis.com/du-prd/books/im...</td>\n",
              "    </tr>\n",
              "    <tr>\n",
              "      <th>29</th>\n",
              "      <td>BRAIDING SWEETGRASS</td>\n",
              "      <td>Robin Wall Kimmerer</td>\n",
              "      <td>9781571313560</td>\n",
              "      <td>Paperback Nonfiction</td>\n",
              "      <td>https://storage.googleapis.com/du-prd/books/im...</td>\n",
              "    </tr>\n",
              "    <tr>\n",
              "      <th>30</th>\n",
              "      <td>ATOMIC HABITS</td>\n",
              "      <td>James Clear</td>\n",
              "      <td>9780735211292</td>\n",
              "      <td>Advice, How-To &amp; Miscellaneous</td>\n",
              "      <td>https://storage.googleapis.com/du-prd/books/im...</td>\n",
              "    </tr>\n",
              "    <tr>\n",
              "      <th>31</th>\n",
              "      <td>KNIFE DROP</td>\n",
              "      <td>Nick DiGiovanni</td>\n",
              "      <td>9780744076776</td>\n",
              "      <td>Advice, How-To &amp; Miscellaneous</td>\n",
              "      <td>https://storage.googleapis.com/du-prd/books/im...</td>\n",
              "    </tr>\n",
              "    <tr>\n",
              "      <th>32</th>\n",
              "      <td>THE CREATIVE ACT</td>\n",
              "      <td>Rick Rubin with Neil Strauss</td>\n",
              "      <td>9780593652886</td>\n",
              "      <td>Advice, How-To &amp; Miscellaneous</td>\n",
              "      <td>https://storage.googleapis.com/du-prd/books/im...</td>\n",
              "    </tr>\n",
              "    <tr>\n",
              "      <th>33</th>\n",
              "      <td>MAGNOLIA TABLE, VOL. 3</td>\n",
              "      <td>Joanna Gaines</td>\n",
              "      <td>9780062820174</td>\n",
              "      <td>Advice, How-To &amp; Miscellaneous</td>\n",
              "      <td>https://storage.googleapis.com/du-prd/books/im...</td>\n",
              "    </tr>\n",
              "    <tr>\n",
              "      <th>34</th>\n",
              "      <td>THE SUBTLE ART OF NOT GIVING A F*CK</td>\n",
              "      <td>Mark Manson</td>\n",
              "      <td>9780062457714</td>\n",
              "      <td>Advice, How-To &amp; Miscellaneous</td>\n",
              "      <td>https://storage.googleapis.com/du-prd/books/im...</td>\n",
              "    </tr>\n",
              "    <tr>\n",
              "      <th>35</th>\n",
              "      <td>CATCH A CRAYFISH, COUNT THE STARS</td>\n",
              "      <td>Steven Rinella with Brody Henderson. Illustrat...</td>\n",
              "      <td>9780593448977</td>\n",
              "      <td>Children’s Middle Grade Hardcover</td>\n",
              "      <td>https://storage.googleapis.com/du-prd/books/im...</td>\n",
              "    </tr>\n",
              "    <tr>\n",
              "      <th>36</th>\n",
              "      <td>THE SUN AND THE STAR</td>\n",
              "      <td>Rick Riordan and Mark Oshiro</td>\n",
              "      <td>9781368081153</td>\n",
              "      <td>Children’s Middle Grade Hardcover</td>\n",
              "      <td>https://storage.googleapis.com/du-prd/books/im...</td>\n",
              "    </tr>\n",
              "    <tr>\n",
              "      <th>37</th>\n",
              "      <td>REFUGEE</td>\n",
              "      <td>Alan Gratz</td>\n",
              "      <td>9780545880831</td>\n",
              "      <td>Children’s Middle Grade Hardcover</td>\n",
              "      <td>https://storage.googleapis.com/du-prd/books/im...</td>\n",
              "    </tr>\n",
              "    <tr>\n",
              "      <th>38</th>\n",
              "      <td>WONDER</td>\n",
              "      <td>R.J. Palacio</td>\n",
              "      <td>9780375899881</td>\n",
              "      <td>Children’s Middle Grade Hardcover</td>\n",
              "      <td>https://storage.googleapis.com/du-prd/books/im...</td>\n",
              "    </tr>\n",
              "    <tr>\n",
              "      <th>39</th>\n",
              "      <td>CROWNED</td>\n",
              "      <td>Kahran and Regis Bethencourt</td>\n",
              "      <td>9781250281388</td>\n",
              "      <td>Children’s Middle Grade Hardcover</td>\n",
              "      <td>https://storage.googleapis.com/du-prd/books/im...</td>\n",
              "    </tr>\n",
              "    <tr>\n",
              "      <th>40</th>\n",
              "      <td>WHY A DAUGHTER NEEDS A DAD</td>\n",
              "      <td>Gregory E. Lang. Illustrated Sydney Hanson</td>\n",
              "      <td>9781492667834</td>\n",
              "      <td>Children’s Picture Books</td>\n",
              "      <td>https://storage.googleapis.com/du-prd/books/im...</td>\n",
              "    </tr>\n",
              "    <tr>\n",
              "      <th>41</th>\n",
              "      <td>WHY A SON NEEDS A DAD</td>\n",
              "      <td>Gregory E. Lang. Illustrated Gail Yerrill</td>\n",
              "      <td>9781728235875</td>\n",
              "      <td>Children’s Picture Books</td>\n",
              "      <td>https://storage.googleapis.com/du-prd/books/im...</td>\n",
              "    </tr>\n",
              "    <tr>\n",
              "      <th>42</th>\n",
              "      <td>I LOVE DAD WITH THE VERY HUNGRY CATERPILLAR</td>\n",
              "      <td>Eric Carle</td>\n",
              "      <td>9781524785895</td>\n",
              "      <td>Children’s Picture Books</td>\n",
              "      <td>https://storage.googleapis.com/du-prd/books/im...</td>\n",
              "    </tr>\n",
              "    <tr>\n",
              "      <th>43</th>\n",
              "      <td>HOW TO CATCH A DADDYSAURUS</td>\n",
              "      <td>Alice Walstead. Illustrated Andy Elkerton</td>\n",
              "      <td>9781728266183</td>\n",
              "      <td>Children’s Picture Books</td>\n",
              "      <td>https://storage.googleapis.com/du-prd/books/im...</td>\n",
              "    </tr>\n",
              "    <tr>\n",
              "      <th>44</th>\n",
              "      <td>THE WONDERFUL THINGS YOU WILL BE</td>\n",
              "      <td>Emily Winfield Martin</td>\n",
              "      <td>9780385376716</td>\n",
              "      <td>Children’s Picture Books</td>\n",
              "      <td>https://storage.googleapis.com/du-prd/books/im...</td>\n",
              "    </tr>\n",
              "    <tr>\n",
              "      <th>45</th>\n",
              "      <td>THE SUMMER I TURNED PRETTY TRILOGY</td>\n",
              "      <td>Jenny Han</td>\n",
              "      <td>9781416995586</td>\n",
              "      <td>Children’s Series</td>\n",
              "      <td>https://storage.googleapis.com/du-prd/books/im...</td>\n",
              "    </tr>\n",
              "    <tr>\n",
              "      <th>46</th>\n",
              "      <td>A GOOD GIRL'S GUIDE TO MURDER</td>\n",
              "      <td>Holly Jackson</td>\n",
              "      <td>9780593379851</td>\n",
              "      <td>Children’s Series</td>\n",
              "      <td>https://storage.googleapis.com/du-prd/books/im...</td>\n",
              "    </tr>\n",
              "    <tr>\n",
              "      <th>47</th>\n",
              "      <td>DIARY OF A WIMPY KID</td>\n",
              "      <td>written and illustrated Jeff Kinney</td>\n",
              "      <td>9781419711329</td>\n",
              "      <td>Children’s Series</td>\n",
              "      <td>https://storage.googleapis.com/du-prd/books/im...</td>\n",
              "    </tr>\n",
              "    <tr>\n",
              "      <th>48</th>\n",
              "      <td>HARRY POTTER</td>\n",
              "      <td>J.K. Rowling</td>\n",
              "      <td>9780590353427</td>\n",
              "      <td>Children’s Series</td>\n",
              "      <td>https://storage.googleapis.com/du-prd/books/im...</td>\n",
              "    </tr>\n",
              "    <tr>\n",
              "      <th>49</th>\n",
              "      <td>THE HUNGER GAMES</td>\n",
              "      <td>Suzanne Collins</td>\n",
              "      <td>9780545663267</td>\n",
              "      <td>Children’s Series</td>\n",
              "      <td>https://storage.googleapis.com/du-prd/books/im...</td>\n",
              "    </tr>\n",
              "    <tr>\n",
              "      <th>50</th>\n",
              "      <td>SOLITAIRE</td>\n",
              "      <td>Alice Oseman</td>\n",
              "      <td>9781339016238</td>\n",
              "      <td>Young Adult Hardcover</td>\n",
              "      <td>https://storage.googleapis.com/du-prd/books/im...</td>\n",
              "    </tr>\n",
              "    <tr>\n",
              "      <th>51</th>\n",
              "      <td>FIVE SURVIVE</td>\n",
              "      <td>Holly Jackson</td>\n",
              "      <td>9780593374160</td>\n",
              "      <td>Young Adult Hardcover</td>\n",
              "      <td>https://storage.googleapis.com/du-prd/books/im...</td>\n",
              "    </tr>\n",
              "    <tr>\n",
              "      <th>52</th>\n",
              "      <td>GIRLS LIKE GIRLS</td>\n",
              "      <td>Hayley Kiyoko</td>\n",
              "      <td>9781250817631</td>\n",
              "      <td>Young Adult Hardcover</td>\n",
              "      <td>https://storage.googleapis.com/du-prd/books/im...</td>\n",
              "    </tr>\n",
              "    <tr>\n",
              "      <th>53</th>\n",
              "      <td>NICK AND CHARLIE</td>\n",
              "      <td>Alice Oseman</td>\n",
              "      <td>9781338885101</td>\n",
              "      <td>Young Adult Hardcover</td>\n",
              "      <td>https://storage.googleapis.com/du-prd/books/im...</td>\n",
              "    </tr>\n",
              "    <tr>\n",
              "      <th>54</th>\n",
              "      <td>THE FIRST TO DIE AT THE END</td>\n",
              "      <td>Adam Silvera</td>\n",
              "      <td>9780063240803</td>\n",
              "      <td>Young Adult Hardcover</td>\n",
              "      <td>https://storage.googleapis.com/du-prd/books/im...</td>\n",
              "    </tr>\n",
              "  </tbody>\n",
              "</table>\n",
              "</div>\n",
              "      <button class=\"colab-df-convert\" onclick=\"convertToInteractive('df-cbd4c640-7a47-45e2-90f1-a33cd2487a42')\"\n",
              "              title=\"Convert this dataframe to an interactive table.\"\n",
              "              style=\"display:none;\">\n",
              "        \n",
              "  <svg xmlns=\"http://www.w3.org/2000/svg\" height=\"24px\"viewBox=\"0 0 24 24\"\n",
              "       width=\"24px\">\n",
              "    <path d=\"M0 0h24v24H0V0z\" fill=\"none\"/>\n",
              "    <path d=\"M18.56 5.44l.94 2.06.94-2.06 2.06-.94-2.06-.94-.94-2.06-.94 2.06-2.06.94zm-11 1L8.5 8.5l.94-2.06 2.06-.94-2.06-.94L8.5 2.5l-.94 2.06-2.06.94zm10 10l.94 2.06.94-2.06 2.06-.94-2.06-.94-.94-2.06-.94 2.06-2.06.94z\"/><path d=\"M17.41 7.96l-1.37-1.37c-.4-.4-.92-.59-1.43-.59-.52 0-1.04.2-1.43.59L10.3 9.45l-7.72 7.72c-.78.78-.78 2.05 0 2.83L4 21.41c.39.39.9.59 1.41.59.51 0 1.02-.2 1.41-.59l7.78-7.78 2.81-2.81c.8-.78.8-2.07 0-2.86zM5.41 20L4 18.59l7.72-7.72 1.47 1.35L5.41 20z\"/>\n",
              "  </svg>\n",
              "      </button>\n",
              "      \n",
              "  <style>\n",
              "    .colab-df-container {\n",
              "      display:flex;\n",
              "      flex-wrap:wrap;\n",
              "      gap: 12px;\n",
              "    }\n",
              "\n",
              "    .colab-df-convert {\n",
              "      background-color: #E8F0FE;\n",
              "      border: none;\n",
              "      border-radius: 50%;\n",
              "      cursor: pointer;\n",
              "      display: none;\n",
              "      fill: #1967D2;\n",
              "      height: 32px;\n",
              "      padding: 0 0 0 0;\n",
              "      width: 32px;\n",
              "    }\n",
              "\n",
              "    .colab-df-convert:hover {\n",
              "      background-color: #E2EBFA;\n",
              "      box-shadow: 0px 1px 2px rgba(60, 64, 67, 0.3), 0px 1px 3px 1px rgba(60, 64, 67, 0.15);\n",
              "      fill: #174EA6;\n",
              "    }\n",
              "\n",
              "    [theme=dark] .colab-df-convert {\n",
              "      background-color: #3B4455;\n",
              "      fill: #D2E3FC;\n",
              "    }\n",
              "\n",
              "    [theme=dark] .colab-df-convert:hover {\n",
              "      background-color: #434B5C;\n",
              "      box-shadow: 0px 1px 3px 1px rgba(0, 0, 0, 0.15);\n",
              "      filter: drop-shadow(0px 1px 2px rgba(0, 0, 0, 0.3));\n",
              "      fill: #FFFFFF;\n",
              "    }\n",
              "  </style>\n",
              "\n",
              "      <script>\n",
              "        const buttonEl =\n",
              "          document.querySelector('#df-cbd4c640-7a47-45e2-90f1-a33cd2487a42 button.colab-df-convert');\n",
              "        buttonEl.style.display =\n",
              "          google.colab.kernel.accessAllowed ? 'block' : 'none';\n",
              "\n",
              "        async function convertToInteractive(key) {\n",
              "          const element = document.querySelector('#df-cbd4c640-7a47-45e2-90f1-a33cd2487a42');\n",
              "          const dataTable =\n",
              "            await google.colab.kernel.invokeFunction('convertToInteractive',\n",
              "                                                     [key], {});\n",
              "          if (!dataTable) return;\n",
              "\n",
              "          const docLinkHtml = 'Like what you see? Visit the ' +\n",
              "            '<a target=\"_blank\" href=https://colab.research.google.com/notebooks/data_table.ipynb>data table notebook</a>'\n",
              "            + ' to learn more about interactive tables.';\n",
              "          element.innerHTML = '';\n",
              "          dataTable['output_type'] = 'display_data';\n",
              "          await google.colab.output.renderOutput(dataTable, element);\n",
              "          const docLink = document.createElement('div');\n",
              "          docLink.innerHTML = docLinkHtml;\n",
              "          element.appendChild(docLink);\n",
              "        }\n",
              "      </script>\n",
              "    </div>\n",
              "  </div>\n",
              "  "
            ]
          },
          "metadata": {},
          "execution_count": 31
        }
      ]
    },
    {
      "cell_type": "markdown",
      "source": [
        "### Save DataFrame into CSV file\n",
        "Save to a csv file in your Google Colab.\n",
        "- Click on the folder icon on the left of your screen to find the file and download it"
      ],
      "metadata": {
        "id": "MhSI8mQIXAno"
      }
    },
    {
      "cell_type": "code",
      "source": [
        "path_name = 'NYT_Bestsellers_List.csv'\n",
        "df.to_csv(path_name, index=False)"
      ],
      "metadata": {
        "id": "ukGaRZdMWv-o"
      },
      "execution_count": null,
      "outputs": []
    },
    {
      "cell_type": "markdown",
      "source": [
        "# **Class Survey**\n",
        "\n",
        "Directly below is a link to a survey that lets us know how we're doing and any additional feedback you might have. Please take some time to fill out the survey in full so that we can learn how to better serve you.\n",
        "\n",
        "[**Survey Link**](https://docs.google.com/forms/d/e/1FAIpQLSeRoFsj9kC436jyBuImwv2QToGSYYZDo1SygTEnsQ-k3ozHng/viewform)"
      ],
      "metadata": {
        "id": "Nz18y2a7Hxjx"
      }
    }
  ]
}